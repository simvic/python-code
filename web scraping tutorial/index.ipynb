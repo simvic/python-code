{
 "cells": [
  {
   "cell_type": "code",
   "execution_count": 68,
   "id": "32314b8a",
   "metadata": {},
   "outputs": [
    {
     "name": "stdout",
     "output_type": "stream",
     "text": [
      "[None, None, None, None, None, None, None, None, None, None, <h2>About Us</h2>, <h2>About Us</h2>, <h2>About Us</h2>, <h2>About Us</h2>, <h2>About Us</h2>, None, None, <h2>Our Mission Statement</h2>, <h2>Our Mission Statement</h2>, <h2>Our Mission Statement</h2>, <h2>Our Services</h2>, <h2>Our Services</h2>, <h2>Our Services</h2>, None, None, None, None, None, None, None, None, None, None, None, <h2>We design delightful digital experiences.</h2>, <h2>We design delightful digital experiences.</h2>, <h2>We design delightful digital experiences.</h2>, <h2>We design delightful digital experiences.</h2>, None, None, None, None, None, None, <h2>Fun Facts About Us</h2>, <h2>Fun Facts About Us</h2>, <h2>Fun Facts About Us</h2>, None, None, None, None, None, None, None, None, None, None, None, None, None, None, None, None, None, None, None, None, None, None]\n"
     ]
    }
   ],
   "source": [
    "import requests\n",
    "from bs4 import BeautifulSoup\n",
    "\n",
    "\n",
    "result = requests.get(\"http://127.0.0.1:8000/\")\n",
    "\n",
    "src = result.content\n",
    "soup = BeautifulSoup(src, 'lxml')\n",
    "\n",
    "head = []\n",
    "for div in soup.find_all('div'):\n",
    "    header = div.find('h2')\n",
    "    head.append(header)\n",
    "    \n",
    "    \n",
    "\n",
    "\n",
    "print(head)"
   ]
  },
  {
   "cell_type": "code",
   "execution_count": 23,
   "id": "9dcd5947",
   "metadata": {},
   "outputs": [
    {
     "name": "stdout",
     "output_type": "stream",
     "text": [
      "<a class=\"sister\" href=\"http://example.com/lacie\" id=\"link2\">Lacie</a>\n",
      "http://example.com/lacie\n",
      "{'href': 'http://example.com/lacie', 'class': ['sister'], 'id': 'link2'}\n"
     ]
    }
   ],
   "source": [
    "from bs4 import BeautifulSoup\n",
    "\n",
    "html_doc = \"\"\"<html><head><title>The Dormouse's story</title></head>\n",
    "<body>\n",
    "<p class=\"title\"><b>The Dormouse's story</b></p>\n",
    "\n",
    "<p class=\"story\">Once upon a time there were three little sisters; and their names were\n",
    "<a href=\"http://example.com/elsie\" class=\"sister\" id=\"link1\">Elsie</a>,\n",
    "<a href=\"http://example.com/lacie\" class=\"sister\" id=\"link2\">Lacie</a> and\n",
    "<a href=\"http://example.com/tillie\" class=\"sister\" id=\"link3\">Tillie</a>;\n",
    "and they lived at the bottom of a well.</p>\n",
    "\n",
    "<p class=\"story\">...</p>\n",
    "\"\"\"\n",
    "\n",
    "with open('index.html', 'w') as f:\n",
    "    f.write(html_doc)\n",
    "    \n",
    "soup = BeautifulSoup(html_doc, 'lxml')\n",
    "\n",
    "# print(soup.prettify())\n",
    "# print(soup.b)\n",
    "# print(soup.p)\n",
    "# print(soup.title)\n",
    "# print(soup.title.name)\n",
    "# print(soup.find_all('a')[1])\n",
    "tag = soup.find_all('a')[1]\n",
    "print(tag)\n",
    "print(tag['href'])\n",
    "print(tag.attrs)\n"
   ]
  },
  {
   "cell_type": "code",
   "execution_count": null,
   "id": "38cb3be9",
   "metadata": {},
   "outputs": [],
   "source": []
  }
 ],
 "metadata": {
  "kernelspec": {
   "display_name": "Python 3",
   "language": "python",
   "name": "python3"
  },
  "language_info": {
   "codemirror_mode": {
    "name": "ipython",
    "version": 3
   },
   "file_extension": ".py",
   "mimetype": "text/x-python",
   "name": "python",
   "nbconvert_exporter": "python",
   "pygments_lexer": "ipython3",
   "version": "3.8.8"
  }
 },
 "nbformat": 4,
 "nbformat_minor": 5
}
