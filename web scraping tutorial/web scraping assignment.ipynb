{
 "cells": [
  {
   "cell_type": "code",
   "execution_count": 12,
   "id": "fee1a0a6",
   "metadata": {},
   "outputs": [],
   "source": [
    "import requests\n",
    "from bs4 import BeautifulSoup\n",
    "\n",
    "\n",
    "result = requests.get(\"https://codewithmosh.com/p/python-programming-course-beginners\")\n",
    "\n",
    "src = result.content\n",
    "soup = BeautifulSoup(src, 'lxml')\n",
    "x = soup.prettify()\n",
    "# print(x)\n",
    "\n",
    "with open('assignment.html', 'w') as f:\n",
    "    f.write(x)\n",
    "\n",
    "soup = BeautifulSoup(src, 'lxml')    "
   ]
  },
  {
   "cell_type": "code",
   "execution_count": 26,
   "id": "7d35c5d2",
   "metadata": {},
   "outputs": [
    {
     "name": "stdout",
     "output_type": "stream",
     "text": [
      "https://burst.shopifycdn.com/photos/woman-dressed-in-white-leans-against-a-wall.jpg?height=285&format=pjpg&exif=0&iptc=0 1x, https://burst.shopifycdn.com/photos/woman-dressed-in-white-leans-against-a-wall.jpg?height=570&format=pjpg&exif=0&iptc=0 2x\n"
     ]
    }
   ],
   "source": [
    "import requests\n",
    "from bs4 import BeautifulSoup\n",
    "\n",
    "search = requests.get(\"https://burst.shopify.com/\")\n",
    "\n",
    "source = search.content\n",
    "soup = BeautifulSoup(source, 'lxml')\n",
    "\n",
    "sec = soup.find_all('img')[1]\n",
    "# print(sec.attrs)\n",
    "print(sec['data-srcset'])"
   ]
  },
  {
   "cell_type": "code",
   "execution_count": 30,
   "id": "6887be6d",
   "metadata": {},
   "outputs": [],
   "source": [
    "import requests\n",
    "from bs4 import BeautifulSoup\n",
    "\n",
    "resource = requests.get(\"https://www.jumia.com.ng/\")\n",
    "\n",
    "src = resource.content\n",
    "soup = BeautifulSoup(src, 'lxml')\n",
    "\n",
    "organised_script = soup.prettify()\n",
    "\n",
    "with open('jumia_clone.html', 'w') as clone:\n",
    "    clone.write(organised_script)\n",
    "\n",
    "soup = BeautifulSoup(src, 'lxml')\n"
   ]
  },
  {
   "cell_type": "code",
   "execution_count": null,
   "id": "0f651285",
   "metadata": {},
   "outputs": [],
   "source": []
  }
 ],
 "metadata": {
  "kernelspec": {
   "display_name": "Python 3",
   "language": "python",
   "name": "python3"
  },
  "language_info": {
   "codemirror_mode": {
    "name": "ipython",
    "version": 3
   },
   "file_extension": ".py",
   "mimetype": "text/x-python",
   "name": "python",
   "nbconvert_exporter": "python",
   "pygments_lexer": "ipython3",
   "version": "3.8.8"
  }
 },
 "nbformat": 4,
 "nbformat_minor": 5
}
