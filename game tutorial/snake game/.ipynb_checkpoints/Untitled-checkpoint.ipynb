{
 "cells": [
  {
   "cell_type": "code",
   "execution_count": 1,
   "id": "a98bd2f2",
   "metadata": {},
   "outputs": [
    {
     "name": "stdout",
     "output_type": "stream",
     "text": [
      "pygame 2.1.2 (SDL 2.0.16, Python 3.8.8)\n",
      "Hello from the pygame community. https://www.pygame.org/contribute.html\n"
     ]
    },
    {
     "ename": "AttributeError",
     "evalue": "module 'pygame.time' has no attribute 'clock'",
     "output_type": "error",
     "traceback": [
      "\u001b[0;31m---------------------------------------------------------------------------\u001b[0m",
      "\u001b[0;31mAttributeError\u001b[0m                            Traceback (most recent call last)",
      "\u001b[0;32m<ipython-input-1-8f17d7f255af>\u001b[0m in \u001b[0;36m<module>\u001b[0;34m\u001b[0m\n\u001b[1;32m     83\u001b[0m \u001b[0;34m\u001b[0m\u001b[0m\n\u001b[1;32m     84\u001b[0m \u001b[0;34m\u001b[0m\u001b[0m\n\u001b[0;32m---> 85\u001b[0;31m \u001b[0mmain\u001b[0m\u001b[0;34m(\u001b[0m\u001b[0;34m)\u001b[0m\u001b[0;34m\u001b[0m\u001b[0;34m\u001b[0m\u001b[0m\n\u001b[0m",
      "\u001b[0;32m<ipython-input-1-8f17d7f255af>\u001b[0m in \u001b[0;36mmain\u001b[0;34m()\u001b[0m\n\u001b[1;32m     74\u001b[0m     \u001b[0mflag\u001b[0m \u001b[0;34m=\u001b[0m \u001b[0;32mTrue\u001b[0m\u001b[0;34m\u001b[0m\u001b[0;34m\u001b[0m\u001b[0m\n\u001b[1;32m     75\u001b[0m \u001b[0;34m\u001b[0m\u001b[0m\n\u001b[0;32m---> 76\u001b[0;31m     \u001b[0mclock\u001b[0m \u001b[0;34m=\u001b[0m \u001b[0mpygame\u001b[0m\u001b[0;34m.\u001b[0m\u001b[0mtime\u001b[0m\u001b[0;34m.\u001b[0m\u001b[0mclock\u001b[0m\u001b[0;34m(\u001b[0m\u001b[0;34m)\u001b[0m\u001b[0;34m\u001b[0m\u001b[0;34m\u001b[0m\u001b[0m\n\u001b[0m\u001b[1;32m     77\u001b[0m \u001b[0;34m\u001b[0m\u001b[0m\n\u001b[1;32m     78\u001b[0m     \u001b[0;32mwhile\u001b[0m \u001b[0mflag\u001b[0m\u001b[0;34m:\u001b[0m\u001b[0;34m\u001b[0m\u001b[0;34m\u001b[0m\u001b[0m\n",
      "\u001b[0;31mAttributeError\u001b[0m: module 'pygame.time' has no attribute 'clock'"
     ]
    }
   ],
   "source": [
    "import math\n",
    "import random\n",
    "from turtle import width\n",
    "import pygame\n",
    "import tkinter as tk\n",
    "from tkinter import messagebox\n",
    "\n",
    "\n",
    "class cube(object):\n",
    "    rows = 0\n",
    "    w = 0\n",
    "\n",
    "    def __init__(self, start, dirnx=1, dirny=0, color=(255, 0, 0)):\n",
    "        pass\n",
    "\n",
    "    def move(self, dirnx, dirny):\n",
    "        pass\n",
    "\n",
    "    def draw(self, surface, eyes=False):\n",
    "        pass\n",
    "\n",
    "\n",
    "class snake(object):\n",
    "    def __init__(self, color, pos):\n",
    "        pass\n",
    "\n",
    "    def move(self):\n",
    "        pass\n",
    "\n",
    "    def reset(self, pos):\n",
    "        pass\n",
    "\n",
    "    def addCube(self):\n",
    "        pass\n",
    "\n",
    "    def draw(self, surface):\n",
    "        pass\n",
    "\n",
    "\n",
    "def drawGrid(w, rows, surface):\n",
    "    sizeBtwn = w // rows\n",
    "\n",
    "    x = 0\n",
    "    y = 0\n",
    "    for l in range(rows):\n",
    "        x = x + sizeBtwn\n",
    "        y = y + sizeBtwn\n",
    "\n",
    "        pygame.draw.line(surface, (255, 255, 255), (x, 0), (x, w))\n",
    "        pygame.draw.line(surface, (255, 255, 255), (0, y), (w, y ))\n",
    "\n",
    "\n",
    "def redrawWindow(surface):\n",
    "    global width, rows\n",
    "    surface.fill((0, 0, 0))\n",
    "    drawGrid(width, rows, surface)\n",
    "    pygame.display.update\n",
    "\n",
    "\n",
    "def randomSnake(rows, items):\n",
    "    pass\n",
    "\n",
    "\n",
    "def message_box(subject, content):\n",
    "    pass\n",
    "\n",
    "\n",
    "def main():\n",
    "    global rows, width\n",
    "    width = 500\n",
    "    rows = 20\n",
    "    win = pygame.display.set_mode((width, width))\n",
    "    s = snake((255, 0, 0), (10, 10))\n",
    "    flag = True\n",
    "\n",
    "    clock = pygame.time.clock()\n",
    "\n",
    "    while flag:\n",
    "        pygame.time.delay(50)\n",
    "        clock.tick(10)\n",
    "        redrawWindow(win)\n",
    "    pass\n",
    "\n",
    "        \n",
    "main()"
   ]
  },
  {
   "cell_type": "code",
   "execution_count": null,
   "id": "e8b412f1",
   "metadata": {},
   "outputs": [],
   "source": []
  }
 ],
 "metadata": {
  "kernelspec": {
   "display_name": "Python 3",
   "language": "python",
   "name": "python3"
  },
  "language_info": {
   "codemirror_mode": {
    "name": "ipython",
    "version": 3
   },
   "file_extension": ".py",
   "mimetype": "text/x-python",
   "name": "python",
   "nbconvert_exporter": "python",
   "pygments_lexer": "ipython3",
   "version": "3.8.8"
  }
 },
 "nbformat": 4,
 "nbformat_minor": 5
}
