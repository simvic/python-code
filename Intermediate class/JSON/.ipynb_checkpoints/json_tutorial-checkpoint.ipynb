{
 "cells": [
  {
   "cell_type": "code",
   "execution_count": 1,
   "id": "d9e60d75",
   "metadata": {},
   "outputs": [
    {
     "name": "stdout",
     "output_type": "stream",
     "text": [
      "{\n",
      "    \"age\": 31,\n",
      "    \"city\": \"port harcourt\",\n",
      "    \"hasChildren\": false,\n",
      "    \"name\": \"green esther\",\n",
      "    \"titles\": [\n",
      "        \"makeup artiste\",\n",
      "        \"caterer\"\n",
      "    ]\n",
      "}\n"
     ]
    }
   ],
   "source": [
    "import json\n",
    "\n",
    "person = {\"name\": \"green esther\", \"age\": 31, \"city\": \"port harcourt\", \"hasChildren\": False, \"titles\":['makeup artiste', 'caterer']}\n",
    "\n",
    "personJSON = json.dumps(person, indent=4, sort_keys=True)\n",
    "print(personJSON)\n",
    "\n",
    "\n",
    "with open('person.json', 'w') as file:\n",
    "    json.dump(person, file, indent=4, sort_keys=True)\n"
   ]
  },
  {
   "cell_type": "code",
   "execution_count": 4,
   "id": "7a84bb5c",
   "metadata": {},
   "outputs": [
    {
     "name": "stdout",
     "output_type": "stream",
     "text": [
      "{'age': 31, 'city': 'port harcourt', 'hasChildren': False, 'name': 'green esther', 'titles': ['makeup artiste', 'caterer']}\n"
     ]
    }
   ],
   "source": [
    "import json\n",
    "\n",
    "person = {\"name\": \"green esther\", \"age\": 31, \"city\": \"port harcourt\", \"hasChildren\": False, \"titles\":['makeup artiste', 'caterer']}\n",
    "\n",
    "personJSON = json.dumps(person, indent=4, sort_keys=True)\n",
    "\n",
    "\n",
    "with open('person.json', 'r') as file:\n",
    "    person = json.load(file)\n",
    "    print(person)\n"
   ]
  },
  {
   "cell_type": "code",
   "execution_count": 5,
   "id": "33161dc1",
   "metadata": {},
   "outputs": [
    {
     "name": "stdout",
     "output_type": "stream",
     "text": [
      "{\"name\": \"Max\", \"age\": 27, \"User\": true}\n"
     ]
    }
   ],
   "source": [
    "# using a custom class\n",
    "\n",
    "import json\n",
    "\n",
    "class User:\n",
    "    def __init__(self, name, age):\n",
    "        self.name = name\n",
    "        self.age = age\n",
    "        \n",
    "        \n",
    "user = User('Max', 27)\n",
    "\n",
    "def encode_user(o):\n",
    "    if isinstance(o, User):\n",
    "        return {'name': o.name, 'age': o.age, o.__class__.__name__: True}\n",
    "    else:\n",
    "        raise TypeError('Object of type User is not JSON serializable')\n",
    "\n",
    "# first option\n",
    "userJSON = json.dumps(user, default=encode_user)\n",
    "print(userJSON)"
   ]
  },
  {
   "cell_type": "code",
   "execution_count": 9,
   "id": "e7780f84",
   "metadata": {},
   "outputs": [
    {
     "name": "stdout",
     "output_type": "stream",
     "text": [
      "{\"name\": \"Max\", \"age\": 27, \"User\": true}\n"
     ]
    }
   ],
   "source": [
    "# using a custom class 2\n",
    "\n",
    "import json\n",
    "\n",
    "class User:\n",
    "    def __init__(self, name, age):\n",
    "        self.name = name\n",
    "        self.age = age\n",
    "        \n",
    "        \n",
    "user = User('Max', 27)\n",
    "\n",
    "from json import JSONEncoder\n",
    "\n",
    "class UserEncoder(JSONEncoder):\n",
    "    def default(self, o):\n",
    "        if isinstance(o, User):\n",
    "            return {'name': o.name, 'age': o.age, o.__class__.__name__: True}\n",
    "        return JSONEncoder.default(self, o)\n",
    "\n",
    "# 2nd option\n",
    "userJSON = json.dumps(user, cls=UserEncoder)\n",
    "\n",
    "print(userJSON)"
   ]
  },
  {
   "cell_type": "code",
   "execution_count": 18,
   "id": "a203c2ab",
   "metadata": {},
   "outputs": [
    {
     "name": "stdout",
     "output_type": "stream",
     "text": [
      "{\"name\": \"Max\", \"age\": 27, \"User\": true}\n",
      "<class '__main__.User'>\n",
      "Max 27\n"
     ]
    }
   ],
   "source": [
    "# using a custom class 2\n",
    "\n",
    "import json\n",
    "\n",
    "class User:\n",
    "    def __init__(self, name, age):\n",
    "        self.name = name\n",
    "        self.age = age\n",
    "        \n",
    "        \n",
    "user = User('Max', 27)\n",
    "\n",
    "from json import JSONEncoder\n",
    "\n",
    "class UserEncoder(JSONEncoder):\n",
    "    def default(self, o):\n",
    "        if isinstance(o, User):\n",
    "            return {'name': o.name, 'age': o.age, o.__class__.__name__: True}\n",
    "        return JSONEncoder.default(self, o)\n",
    "\n",
    "    \n",
    "#3rd option\n",
    "\n",
    "userJSON = UserEncoder().encode(user)\n",
    "print(userJSON)\n",
    "\n",
    "# how to dcode custom object\n",
    "\n",
    "def decode_user(dct):\n",
    "    if User.__name__ in dct:\n",
    "        return User(name=dct['name'], age=dct['age'])\n",
    "    return dct\n",
    "\n",
    "\n",
    "user = json.loads(userJSON, object_hook=decode_user)\n",
    "\n",
    "print(type(user))\n",
    "print(user.name, user.age)"
   ]
  },
  {
   "cell_type": "code",
   "execution_count": null,
   "id": "df712ffd",
   "metadata": {},
   "outputs": [],
   "source": []
  }
 ],
 "metadata": {
  "kernelspec": {
   "display_name": "Python 3",
   "language": "python",
   "name": "python3"
  },
  "language_info": {
   "codemirror_mode": {
    "name": "ipython",
    "version": 3
   },
   "file_extension": ".py",
   "mimetype": "text/x-python",
   "name": "python",
   "nbconvert_exporter": "python",
   "pygments_lexer": "ipython3",
   "version": "3.8.8"
  }
 },
 "nbformat": 4,
 "nbformat_minor": 5
}
