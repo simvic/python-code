{
 "cells": [
  {
   "cell_type": "code",
   "execution_count": 4,
   "id": "5652a45a",
   "metadata": {},
   "outputs": [
    {
     "name": "stdout",
     "output_type": "stream",
     "text": [
      "Alex\n",
      "1 3 5\n"
     ]
    }
   ],
   "source": [
    "def print_name(name):\n",
    "    print(name)\n",
    "    \n",
    "print_name('Alex')\n",
    "\n",
    "def foo(a, b, c):\n",
    "    print(a, b, c)\n",
    "    \n",
    "foo(1, 3, 5)"
   ]
  },
  {
   "cell_type": "code",
   "execution_count": 8,
   "id": "a446b8c0",
   "metadata": {},
   "outputs": [
    {
     "name": "stdout",
     "output_type": "stream",
     "text": [
      "2 4\n"
     ]
    }
   ],
   "source": [
    "def foo(a, b, c, *args, **kwargs):\n",
    "    print(a, b)\n",
    "    for i in args:\n",
    "        print(i)\n",
    "    for k in kwargs:\n",
    "        print(k, kwargs[k])\n",
    "        \n",
    "foo(2,4,1)"
   ]
  },
  {
   "cell_type": "code",
   "execution_count": 12,
   "id": "7c8892dd",
   "metadata": {},
   "outputs": [
    {
     "name": "stdout",
     "output_type": "stream",
     "text": [
      "2 4 6\n",
      "3 9 7\n",
      "1 3 8\n"
     ]
    }
   ],
   "source": [
    "# unpacking with list\n",
    "def foo(a,f,g):\n",
    "    print(a,f,g)\n",
    "    \n",
    "\n",
    "my_list = [2, 4, 6]\n",
    "foo(*my_list)\n",
    "\n",
    "my_tuple = [3, 9, 7]\n",
    "foo(*my_tuple)\n",
    "\n",
    "my_dict = {'a': 1, 'f': 3, 'g': 8}\n",
    "foo(**my_dict)"
   ]
  },
  {
   "cell_type": "code",
   "execution_count": 14,
   "id": "17971199",
   "metadata": {},
   "outputs": [
    {
     "name": "stdout",
     "output_type": "stream",
     "text": [
      "0\n"
     ]
    }
   ],
   "source": [
    "# local and global variables\n",
    "\n",
    "def foo():\n",
    "    global num\n",
    "    num = 0\n",
    "\n",
    "    \n",
    "num = 3\n",
    "foo()\n",
    "print(num)"
   ]
  },
  {
   "cell_type": "code",
   "execution_count": null,
   "id": "17b5d530",
   "metadata": {},
   "outputs": [],
   "source": [
    "def foo(x):\n",
    "    x = 5"
   ]
  }
 ],
 "metadata": {
  "kernelspec": {
   "display_name": "Python 3",
   "language": "python",
   "name": "python3"
  },
  "language_info": {
   "codemirror_mode": {
    "name": "ipython",
    "version": 3
   },
   "file_extension": ".py",
   "mimetype": "text/x-python",
   "name": "python",
   "nbconvert_exporter": "python",
   "pygments_lexer": "ipython3",
   "version": "3.8.8"
  }
 },
 "nbformat": 4,
 "nbformat_minor": 5
}
