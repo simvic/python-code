{
 "cells": [
  {
   "cell_type": "code",
   "execution_count": 1,
   "id": "5ec5e1c0",
   "metadata": {},
   "outputs": [
    {
     "name": "stdout",
     "output_type": "stream",
     "text": [
      "12\n"
     ]
    }
   ],
   "source": [
    "# lambda arguments: expression\n",
    "\n",
    "add10 = lambda x: x + 10\n",
    "print(add10(2))"
   ]
  },
  {
   "cell_type": "code",
   "execution_count": 2,
   "id": "32ad6c1b",
   "metadata": {},
   "outputs": [
    {
     "name": "stdout",
     "output_type": "stream",
     "text": [
      "-8\n"
     ]
    }
   ],
   "source": [
    "sub10 = lambda x: x - 10\n",
    "print(sub10(2))"
   ]
  },
  {
   "cell_type": "code",
   "execution_count": 3,
   "id": "5323b8c0",
   "metadata": {},
   "outputs": [
    {
     "name": "stdout",
     "output_type": "stream",
     "text": [
      "24\n"
     ]
    }
   ],
   "source": [
    "mul = lambda x,y: x * y\n",
    "print(mul(3,8))"
   ]
  },
  {
   "cell_type": "code",
   "execution_count": 8,
   "id": "11767aac",
   "metadata": {},
   "outputs": [
    {
     "name": "stdout",
     "output_type": "stream",
     "text": [
      "[(1, 2), (15, 1), (5, -1), (10, 4)]\n",
      "[(1, 2), (5, -1), (10, 4), (15, 1)]\n"
     ]
    }
   ],
   "source": [
    "# using lambda with sort func\n",
    "\n",
    "points2D = [(1, 2), (15, 1), (5, -1), (10, 4)]\n",
    "points2D_sorted = sorted(points2D, key=lambda x: x[0] + x[1])\n",
    "\n",
    "print(points2D)\n",
    "print(points2D_sorted)"
   ]
  },
  {
   "cell_type": "code",
   "execution_count": 10,
   "id": "5cf0f3b3",
   "metadata": {},
   "outputs": [
    {
     "name": "stdout",
     "output_type": "stream",
     "text": [
      "[2, 4, 6, 8, 10]\n",
      "[2, 4, 6, 8, 10]\n"
     ]
    }
   ],
   "source": [
    "#using lambda with a map function\n",
    "# map(func, seq)\n",
    "\n",
    "a = [1, 2, 3, 4, 5]\n",
    "b = map(lambda x: x*2, a)\n",
    "print(list(b))\n",
    "\n",
    "#using list comprehension\n",
    "c = [x*2 for x in a]\n",
    "print(c)"
   ]
  },
  {
   "cell_type": "code",
   "execution_count": 15,
   "id": "357aeead",
   "metadata": {},
   "outputs": [
    {
     "name": "stdout",
     "output_type": "stream",
     "text": [
      "[2, 4]\n",
      "[2, 4]\n"
     ]
    }
   ],
   "source": [
    "# using lambda with a filter function\n",
    "# filter(func, seq)\n",
    "\n",
    "a = [1, 2, 3, 4, 5]\n",
    "b = filter(lambda x: x%2 == 0, a)\n",
    "\n",
    "print(list(b))\n",
    "\n",
    "#using list comprehension\n",
    "c = [x for x in a if x%2==0]\n",
    "print(c)"
   ]
  },
  {
   "cell_type": "code",
   "execution_count": 16,
   "id": "8598a590",
   "metadata": {},
   "outputs": [
    {
     "name": "stdout",
     "output_type": "stream",
     "text": [
      "2880\n"
     ]
    }
   ],
   "source": [
    "# using lambda with the reduce function\n",
    "# reduce(func, seq)\n",
    "from functools import reduce\n",
    "\n",
    "a = [1, 2, 3, 4, 5, 6, 4]\n",
    "\n",
    "product_a = reduce(lambda x,y: x*y, a)\n",
    "print(product_a)"
   ]
  },
  {
   "cell_type": "code",
   "execution_count": null,
   "id": "ec1ff229",
   "metadata": {},
   "outputs": [],
   "source": []
  }
 ],
 "metadata": {
  "kernelspec": {
   "display_name": "Python 3",
   "language": "python",
   "name": "python3"
  },
  "language_info": {
   "codemirror_mode": {
    "name": "ipython",
    "version": 3
   },
   "file_extension": ".py",
   "mimetype": "text/x-python",
   "name": "python",
   "nbconvert_exporter": "python",
   "pygments_lexer": "ipython3",
   "version": "3.8.8"
  }
 },
 "nbformat": 4,
 "nbformat_minor": 5
}
