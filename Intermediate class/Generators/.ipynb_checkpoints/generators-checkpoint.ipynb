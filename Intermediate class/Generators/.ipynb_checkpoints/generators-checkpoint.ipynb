{
 "cells": [
  {
   "cell_type": "code",
   "execution_count": 10,
   "id": "4bbf1183",
   "metadata": {},
   "outputs": [
    {
     "name": "stdout",
     "output_type": "stream",
     "text": [
      "[1, 2, 3]\n"
     ]
    }
   ],
   "source": [
    "def mygenerator():\n",
    "    yield 1\n",
    "    yield 3\n",
    "    yield 2\n",
    "\n",
    "\n",
    "g = mygenerator()\n",
    "\n",
    "\n",
    "# value = next(g)\n",
    "# print(value)\n",
    "\n",
    "\n",
    "# value = next(g)\n",
    "# print(value)\n",
    "\n",
    "\n",
    "# value = next(g)\n",
    "# print(value)\n",
    "\n",
    "\n",
    "print(sorted(g))\n"
   ]
  },
  {
   "cell_type": "code",
   "execution_count": 15,
   "id": "88a494f3",
   "metadata": {},
   "outputs": [
    {
     "name": "stdout",
     "output_type": "stream",
     "text": [
      "Starting\n",
      "4\n",
      "3\n",
      "2\n",
      "1\n"
     ]
    }
   ],
   "source": [
    "def countdown(num):\n",
    "    print('Starting')\n",
    "    while num > 0:\n",
    "        yield num\n",
    "        num -= 1\n",
    "\n",
    "cd = countdown(4)\n",
    "\n",
    "value = next(cd)\n",
    "print(value)\n",
    "\n",
    "print(next(cd))\n",
    "print(next(cd))\n",
    "print(next(cd))"
   ]
  },
  {
   "cell_type": "code",
   "execution_count": 28,
   "id": "497ece37",
   "metadata": {},
   "outputs": [
    {
     "name": "stdout",
     "output_type": "stream",
     "text": [
      "[0, 1, 2, 3, 4, 5, 6, 7, 8, 9]\n",
      "45\n",
      "[0, 1, 2, 3, 4, 5, 6, 7, 8, 9]\n",
      "45\n",
      "geting the size in bit\n",
      "8697456\n",
      "112\n"
     ]
    }
   ],
   "source": [
    "import sys\n",
    "\n",
    "def firstn(n):\n",
    "    nums = []\n",
    "    num = 0\n",
    "    while num < n:\n",
    "        nums.append(num)\n",
    "        num += 1\n",
    "    return nums\n",
    "\n",
    "\n",
    "def firstn_generator(n):\n",
    "    num = 0\n",
    "    while num < n:\n",
    "        yield num\n",
    "        num += 1\n",
    "\n",
    "print(firstn(10))\n",
    "print(sum(firstn(10)))\n",
    "\n",
    "print(list(firstn_generator(10)))\n",
    "print(sum(firstn_generator(10)))\n",
    "\n",
    "print('geting the size in bit')\n",
    "\n",
    "print(sys.getsizeof(firstn(1000000)))\n",
    "print(sys.getsizeof(firstn_generator(1000000)))"
   ]
  },
  {
   "cell_type": "code",
   "execution_count": 31,
   "id": "fc0357e5",
   "metadata": {},
   "outputs": [
    {
     "name": "stdout",
     "output_type": "stream",
     "text": [
      "0\n",
      "1\n",
      "1\n",
      "2\n",
      "3\n",
      "5\n",
      "8\n",
      "13\n",
      "21\n"
     ]
    }
   ],
   "source": [
    "def fibonacci(limit):\n",
    "    a, b = 0, 1\n",
    "    while a < limit:\n",
    "        yield a\n",
    "        a, b = b, a + b\n",
    "        \n",
    "fib = fibonacci(30)\n",
    "# print(list(fib))\n",
    "for i in fib:\n",
    "    print(i)"
   ]
  },
  {
   "cell_type": "code",
   "execution_count": 37,
   "id": "52224e8a",
   "metadata": {},
   "outputs": [
    {
     "name": "stdout",
     "output_type": "stream",
     "text": [
      "geting the size of both output\n",
      "112\n",
      "4290008\n"
     ]
    }
   ],
   "source": [
    "import sys\n",
    "\n",
    "mygenerator = (i for i in range(1000000) if i % 2 == 0)\n",
    "# print(list(mygenerator))\n",
    "\n",
    "mylist = [i for i in range(1000000) if i % 2 == 0]\n",
    "# print(mylist)\n",
    "\n",
    "print('geting the size of both output')\n",
    "\n",
    "print(sys.getsizeof(mygenerator))\n",
    "print(sys.getsizeof(mylist))"
   ]
  },
  {
   "cell_type": "code",
   "execution_count": null,
   "id": "3f43c448",
   "metadata": {},
   "outputs": [],
   "source": []
  }
 ],
 "metadata": {
  "kernelspec": {
   "display_name": "Python 3",
   "language": "python",
   "name": "python3"
  },
  "language_info": {
   "codemirror_mode": {
    "name": "ipython",
    "version": 3
   },
   "file_extension": ".py",
   "mimetype": "text/x-python",
   "name": "python",
   "nbconvert_exporter": "python",
   "pygments_lexer": "ipython3",
   "version": "3.8.8"
  }
 },
 "nbformat": 4,
 "nbformat_minor": 5
}
