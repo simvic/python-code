{
 "cells": [
  {
   "cell_type": "code",
   "execution_count": null,
   "id": "ce3b2d8b",
   "metadata": {},
   "outputs": [],
   "source": [
    "from multiprocessing import Process\n",
    "import os\n",
    "import time\n",
    "\n",
    "def square_numbers():\n",
    "    for i in range(100):\n",
    "        i * i\n",
    "        time.sleep(0.1)\n",
    "\n",
    "processes = []\n",
    "num_processes = os.cpu_count()\n",
    "\n",
    "# create processes\n",
    "for i in range(num_processes):\n",
    "    p = Process(target=square_numbers)\n",
    "    processes.append(p)\n",
    "    \n",
    "# start\n",
    "for p in processes:\n",
    "    p.start()\n",
    "    \n",
    "# join\n",
    "for p in processes:\n",
    "    p.join()\n",
    "    \n",
    "print('end main')"
   ]
  }
 ],
 "metadata": {
  "kernelspec": {
   "display_name": "Python 3",
   "language": "python",
   "name": "python3"
  },
  "language_info": {
   "codemirror_mode": {
    "name": "ipython",
    "version": 3
   },
   "file_extension": ".py",
   "mimetype": "text/x-python",
   "name": "python",
   "nbconvert_exporter": "python",
   "pygments_lexer": "ipython3",
   "version": "3.8.8"
  }
 },
 "nbformat": 4,
 "nbformat_minor": 5
}
