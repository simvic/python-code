{
 "cells": [
  {
   "cell_type": "code",
   "execution_count": 4,
   "id": "e1351947",
   "metadata": {},
   "outputs": [
    {
     "name": "stdout",
     "output_type": "stream",
     "text": [
      "[(1, 3), (1, 4), (2, 3), (2, 4)]\n",
      "[(1, 3, 1, 3), (1, 3, 2, 3), (2, 3, 1, 3), (2, 3, 2, 3)]\n"
     ]
    }
   ],
   "source": [
    "# itertools: product, permutations, combinations, accumulate, grouppy and infinite iterators.\n",
    "\n",
    "from itertools import product\n",
    "\n",
    "a = [1,2]\n",
    "b = [3,4]\n",
    "\n",
    "c = [1,2]\n",
    "d = [3]\n",
    "\n",
    "prod = product(a,b)\n",
    "print(list(prod))\n",
    "\n",
    "prod = product(c,d, repeat=2)\n",
    "print(list(prod))"
   ]
  },
  {
   "cell_type": "code",
   "execution_count": 6,
   "id": "30371268",
   "metadata": {},
   "outputs": [
    {
     "name": "stdout",
     "output_type": "stream",
     "text": [
      "[(1, 2, 3), (1, 3, 2), (2, 1, 3), (2, 3, 1), (3, 1, 2), (3, 2, 1)]\n",
      "[(1, 2), (1, 5), (2, 1), (2, 5), (5, 1), (5, 2)]\n"
     ]
    }
   ],
   "source": [
    "from itertools import permutations\n",
    "\n",
    "a = [1, 2, 3]\n",
    "b = [1, 2, 5]\n",
    "perm = permutations(a)\n",
    "print(list(perm))\n",
    "perms = permutations(b, 2)\n",
    "# the second argument defines the length\n",
    "print(list(perms))"
   ]
  },
  {
   "cell_type": "code",
   "execution_count": 13,
   "id": "da6e2431",
   "metadata": {},
   "outputs": [
    {
     "name": "stdout",
     "output_type": "stream",
     "text": [
      "[(1, 2), (1, 5), (1, 6), (2, 5), (2, 6), (5, 6)]\n",
      "[(1, 1), (1, 2), (1, 5), (1, 6), (2, 2), (2, 5), (2, 6), (5, 5), (5, 6), (6, 6)]\n"
     ]
    }
   ],
   "source": [
    "from itertools import combinations, combinations_with_replacement\n",
    "\n",
    "a = [1, 2, 5, 6]\n",
    "\n",
    "comb = combinations(a, 2)\n",
    "print(list(comb))\n",
    "\n",
    "comb_wr = combinations_with_replacement(a, 2)\n",
    "print(list(comb_wr))"
   ]
  },
  {
   "cell_type": "code",
   "execution_count": 16,
   "id": "b6a55ce9",
   "metadata": {},
   "outputs": [
    {
     "name": "stdout",
     "output_type": "stream",
     "text": [
      "[1, 2, 3, 4]\n",
      "[1, 3, 6, 10]\n",
      "[1, 2, 3, 4]\n",
      "[1, 2, 6, 24]\n"
     ]
    }
   ],
   "source": [
    "from itertools import accumulate\n",
    "import operator\n",
    "\n",
    "a = [1, 2, 3, 4]\n",
    "acc = accumulate(a)\n",
    "print(a)\n",
    "print(list(acc))\n",
    "\n",
    "acc = accumulate(a, func=operator.mul)\n",
    "print(a)\n",
    "print(list(acc))"
   ]
  },
  {
   "cell_type": "code",
   "execution_count": 1,
   "id": "eccdfd47",
   "metadata": {},
   "outputs": [
    {
     "name": "stdout",
     "output_type": "stream",
     "text": [
      "True [1, 2]\n",
      "False [3, 4, 5]\n",
      "21 [{'name': 'tim', 'age': 21}]\n",
      "26 [{'name': 'ibiso', 'age': 26}, {'name': 'christy', 'age': 26}]\n",
      "28 [{'name': 'icent', 'age': 28}]\n"
     ]
    }
   ],
   "source": [
    "from itertools import groupby\n",
    "\n",
    "def smaller_than_3(x):\n",
    "    return x < 3\n",
    "\n",
    "a = [1, 2, 3, 4, 5]\n",
    "group_obj = groupby(a, key=smaller_than_3)\n",
    "\n",
    "for key, value in group_obj:\n",
    "    print(key, list(value))\n",
    "    \n",
    "\n",
    "\n",
    "persons = [{'name':'tim', 'age':21}, {'name':'ibiso', 'age':26}, {'name': 'christy', 'age':26}, {'name':'icent', 'age':28}]\n",
    "\n",
    "group_persons = groupby(persons, key=lambda x: x['age'])\n",
    "for key, value in group_persons:\n",
    "    print(key, list(value))"
   ]
  },
  {
   "cell_type": "code",
   "execution_count": 2,
   "id": "ba74f46b",
   "metadata": {},
   "outputs": [
    {
     "name": "stdout",
     "output_type": "stream",
     "text": [
      "12\n",
      "13\n",
      "14\n",
      "15\n",
      "16\n",
      "17\n",
      "18\n",
      "1\n",
      "1\n",
      "1\n",
      "1\n",
      "1\n"
     ]
    }
   ],
   "source": [
    "from itertools import count, cycle, repeat\n",
    "\n",
    "for i in count(12):\n",
    "    print(i)\n",
    "    if i == 18:\n",
    "        break\n",
    "        \n",
    "a = [1,2,3]\n",
    "for x in repeat(1, 5):\n",
    "    print(x)"
   ]
  },
  {
   "cell_type": "code",
   "execution_count": null,
   "id": "ab589357",
   "metadata": {},
   "outputs": [],
   "source": []
  }
 ],
 "metadata": {
  "kernelspec": {
   "display_name": "Python 3",
   "language": "python",
   "name": "python3"
  },
  "language_info": {
   "codemirror_mode": {
    "name": "ipython",
    "version": 3
   },
   "file_extension": ".py",
   "mimetype": "text/x-python",
   "name": "python",
   "nbconvert_exporter": "python",
   "pygments_lexer": "ipython3",
   "version": "3.8.8"
  }
 },
 "nbformat": 4,
 "nbformat_minor": 5
}
