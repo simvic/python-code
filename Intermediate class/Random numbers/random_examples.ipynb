{
 "cells": [
  {
   "cell_type": "code",
   "execution_count": 2,
   "id": "04b62d7f",
   "metadata": {},
   "outputs": [],
   "source": [
    "import random\n",
    "\n",
    "a = random.random()\n",
    "b = random.uniform(1, 10)\n",
    "c = random.randint(1, 20)\n",
    "\n",
    "# the randrange will never pick the last digit\n",
    "d = random.randrange(1, 20)\n",
    "e = random.normalvariate(0, 1)\n",
    "\n",
    "mylist = list(\"abcdefghijklmnop\")\n",
    "f = random.choice(mylist)\n",
    "g = random.sample(mylist, 3)\n",
    "h = random.choices(mylist, k=3)\n",
    "random.shuffle(mylist)\n",
    "\n",
    "print(a)\n",
    "print(b)\n",
    "print(c)\n",
    "print(d)\n",
    "print(e)\n",
    "print(f)\n",
    "print(g)\n",
    "print(h)\n",
    "print(mylist)"
   ]
  },
  {
   "cell_type": "code",
   "execution_count": 1,
   "id": "1a9aeda7",
   "metadata": {},
   "outputs": [],
   "source": [
    "import random\n",
    "\n",
    "\n",
    "random.seed(1)\n",
    "print(random.random())\n",
    "print(random.randint(1, 10))\n",
    "random.seed(1)\n",
    "print(random.random())\n",
    "print(random.randint(1, 10))"
   ]
  },
  {
   "cell_type": "code",
   "execution_count": 20,
   "id": "b8ffdd3b",
   "metadata": {},
   "outputs": [
    {
     "name": "stdout",
     "output_type": "stream",
     "text": [
      "4\n",
      "15\n",
      "B\n"
     ]
    }
   ],
   "source": [
    "import secrets\n",
    "\n",
    "\n",
    "a = secrets.randbelow(10)\n",
    "print(a)\n",
    "\n",
    "\n",
    "b = secrets.randbits(4)\n",
    "print(b)\n",
    "\n",
    "mylist = list('ABCDEFGH')\n",
    "c = secrets.choice(mylist)\n",
    "print(c)"
   ]
  },
  {
   "cell_type": "code",
   "execution_count": 33,
   "id": "572eede9",
   "metadata": {},
   "outputs": [
    {
     "name": "stdout",
     "output_type": "stream",
     "text": [
      "[[1 2 3]\n",
      " [4 5 6]\n",
      " [7 8 9]]\n",
      "[[7 8 9]\n",
      " [4 5 6]\n",
      " [1 2 3]]\n"
     ]
    }
   ],
   "source": [
    "import numpy as np\n",
    "\n",
    "a = np.random.rand(3,3)\n",
    "# print(a)\n",
    "\n",
    "b = np.random.randint(0, 10, (3,3))\n",
    "# print(b)\n",
    "\n",
    "arr = np.array([[1,2,3], [4,5,6], [7,8,9]])\n",
    "print(arr)\n",
    "np.random.shuffle(arr)\n",
    "print(arr)"
   ]
  },
  {
   "cell_type": "code",
   "execution_count": null,
   "id": "735fa978",
   "metadata": {},
   "outputs": [],
   "source": []
  }
 ],
 "metadata": {
  "kernelspec": {
   "display_name": "Python 3",
   "language": "python",
   "name": "python3"
  },
  "language_info": {
   "codemirror_mode": {
    "name": "ipython",
    "version": 3
   },
   "file_extension": ".py",
   "mimetype": "text/x-python",
   "name": "python",
   "nbconvert_exporter": "python",
   "pygments_lexer": "ipython3",
   "version": "3.8.8"
  }
 },
 "nbformat": 4,
 "nbformat_minor": 5
}
