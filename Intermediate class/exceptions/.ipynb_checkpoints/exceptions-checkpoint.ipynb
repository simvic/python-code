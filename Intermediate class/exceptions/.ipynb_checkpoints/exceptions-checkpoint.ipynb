{
 "cells": [
  {
   "cell_type": "code",
   "execution_count": 2,
   "id": "5dab3d01",
   "metadata": {},
   "outputs": [],
   "source": [
    "# Errors and exceptions\n",
    "\n",
    "x = 3\n",
    "if x < 0:\n",
    "    raise Exception('x should be positive')"
   ]
  },
  {
   "cell_type": "code",
   "execution_count": 4,
   "id": "1d0c0773",
   "metadata": {},
   "outputs": [
    {
     "ename": "AssertionError",
     "evalue": "x is not positive",
     "output_type": "error",
     "traceback": [
      "\u001b[0;31m---------------------------------------------------------------------------\u001b[0m",
      "\u001b[0;31mAssertionError\u001b[0m                            Traceback (most recent call last)",
      "\u001b[0;32m<ipython-input-4-5f2fe82352c1>\u001b[0m in \u001b[0;36m<module>\u001b[0;34m\u001b[0m\n\u001b[1;32m      1\u001b[0m \u001b[0mx\u001b[0m \u001b[0;34m=\u001b[0m \u001b[0;34m-\u001b[0m\u001b[0;36m4\u001b[0m\u001b[0;34m\u001b[0m\u001b[0;34m\u001b[0m\u001b[0m\n\u001b[0;32m----> 2\u001b[0;31m \u001b[0;32massert\u001b[0m \u001b[0;34m(\u001b[0m\u001b[0mx\u001b[0m\u001b[0;34m>=\u001b[0m\u001b[0;36m0\u001b[0m\u001b[0;34m)\u001b[0m\u001b[0;34m,\u001b[0m \u001b[0;34m'x is not positive'\u001b[0m\u001b[0;34m\u001b[0m\u001b[0;34m\u001b[0m\u001b[0m\n\u001b[0m",
      "\u001b[0;31mAssertionError\u001b[0m: x is not positive"
     ]
    }
   ],
   "source": [
    "x = -4\n",
    "assert (x>=0), 'x is not positive'"
   ]
  },
  {
   "cell_type": "code",
   "execution_count": 6,
   "id": "2b0db21c",
   "metadata": {},
   "outputs": [
    {
     "name": "stdout",
     "output_type": "stream",
     "text": [
      "everything is fine\n",
      "cleaning up...\n"
     ]
    }
   ],
   "source": [
    "try:\n",
    "    a = 5/1\n",
    "    b = a + 3\n",
    "    \n",
    "except Exception as e:\n",
    "    print(e)\n",
    "    \n",
    "except TypeError as e:\n",
    "    print(e)\n",
    "    \n",
    "else:\n",
    "    print('everything is fine')\n",
    "\n",
    "finally:\n",
    "    print(\"cleaning up...\")"
   ]
  },
  {
   "cell_type": "code",
   "execution_count": 11,
   "id": "239c3df5",
   "metadata": {},
   "outputs": [
    {
     "name": "stdout",
     "output_type": "stream",
     "text": [
      "Value is too small 2\n"
     ]
    }
   ],
   "source": [
    "class ValueTooHighError(Exception):\n",
    "    pass\n",
    "\n",
    "\n",
    "class ValueTooSmallError(Exception):\n",
    "    def __init__(self, message, value):\n",
    "        self.message = message\n",
    "        self.value = value\n",
    "    \n",
    "\n",
    "def test_value(x):\n",
    "    if x > 100:\n",
    "        raise ValueTooHighError('value is too high')\n",
    "    elif x < 10:\n",
    "        raise ValueTooSmallError('Value is too small', x)\n",
    "        \n",
    "try:\n",
    "    test_value(30)\n",
    "    test_value(2)\n",
    "    \n",
    "except ValueTooHighError as e:\n",
    "    print(e)\n",
    "    \n",
    "except ValueTooSmallError as e:\n",
    "    print(e.message, e.value)"
   ]
  },
  {
   "cell_type": "code",
   "execution_count": null,
   "id": "8730be70",
   "metadata": {},
   "outputs": [],
   "source": []
  }
 ],
 "metadata": {
  "kernelspec": {
   "display_name": "Python 3",
   "language": "python",
   "name": "python3"
  },
  "language_info": {
   "codemirror_mode": {
    "name": "ipython",
    "version": 3
   },
   "file_extension": ".py",
   "mimetype": "text/x-python",
   "name": "python",
   "nbconvert_exporter": "python",
   "pygments_lexer": "ipython3",
   "version": "3.8.8"
  }
 },
 "nbformat": 4,
 "nbformat_minor": 5
}
