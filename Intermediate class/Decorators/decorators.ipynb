{
 "cells": [
  {
   "cell_type": "code",
   "execution_count": 8,
   "id": "d88517a4",
   "metadata": {},
   "outputs": [
    {
     "data": {
      "text/plain": [
       "7"
      ]
     },
     "execution_count": 8,
     "metadata": {},
     "output_type": "execute_result"
    }
   ],
   "source": [
    "# there are two types of decorators (1) class decorators (2) function decorators\n",
    "\n",
    "# function decorators\n",
    "import functools\n",
    " \n",
    "def my_dec(func):\n",
    "    \n",
    "    def wrapper(*args, **kwargs):\n",
    "        # Do something\n",
    "        result = func(*args, **kwargs)\n",
    "        # Do somrthing\n",
    "        return result\n",
    "    return wrapper\n",
    "\n",
    "\n",
    "@my_dec\n",
    "def add5(x):\n",
    "    return x + 4\n",
    "    \n",
    "# print_name = start_end_decorator(print_name)\n",
    "\n",
    "add5(3)"
   ]
  },
  {
   "cell_type": "code",
   "execution_count": 14,
   "id": "e964b0d9",
   "metadata": {},
   "outputs": [
    {
     "name": "stdout",
     "output_type": "stream",
     "text": [
      "I love you shakes\n",
      "I love you shakes\n",
      "I love you shakes\n",
      "I love you shakes\n",
      "I love you shakes\n",
      "I love you shakes\n",
      "I love you shakes\n"
     ]
    }
   ],
   "source": [
    "import functools\n",
    "\n",
    "def repeat(num_times):\n",
    "    def decorator_repeat(func):\n",
    "        \n",
    "        @functools.wraps(func)\n",
    "        def wrapper(*args, **kwargs):\n",
    "            for _ in range(num_times):\n",
    "                result = func(*args, **kwargs)\n",
    "            return result\n",
    "        return wrapper\n",
    "    return decorator_repeat\n",
    "\n",
    "\n",
    "@repeat(num_times=7)\n",
    "def greet(name):\n",
    "    print(f'I love you {name}')\n",
    "    \n",
    "greet(\"shakes\")"
   ]
  },
  {
   "cell_type": "code",
   "execution_count": 19,
   "id": "8e0670ec",
   "metadata": {},
   "outputs": [
    {
     "name": "stdout",
     "output_type": "stream",
     "text": [
      "Calling say_hello('Ibiso')\n",
      "Hello lets start\n",
      "Hello Ibiso\n",
      "Thank you\n",
      "'say_hello' returned 'Hello Ibiso'\n"
     ]
    },
    {
     "data": {
      "text/plain": [
       "'Hello Ibiso'"
      ]
     },
     "execution_count": 19,
     "metadata": {},
     "output_type": "execute_result"
    }
   ],
   "source": [
    "import functools\n",
    "\n",
    "def my_dec(func):\n",
    "    \n",
    "    @functools.wraps(func)\n",
    "    def wrapper(*args, **kwargs):\n",
    "        print('Hello lets start')\n",
    "        result = func(*args, **kwargs)\n",
    "        print('Thank you')\n",
    "        return result\n",
    "    return wrapper\n",
    "\n",
    "\n",
    "def debug(func):\n",
    "    @functools.wraps(func)\n",
    "    def wrapper(*args, **kwargs):\n",
    "        args_repr = [repr(a) for a in args]\n",
    "        kwargs_repr = [f\"{k}={v!r}\" for k, v in kwargs.items()]\n",
    "        signature = \", \".join(args_repr + kwargs_repr)\n",
    "        print(f\"Calling {func.__name__}({signature})\")\n",
    "        result = func(*args, **kwargs)\n",
    "        print(f\"{func.__name__!r} returned {result!r}\")\n",
    "        return result\n",
    "    return wrapper\n",
    "\n",
    "\n",
    "@debug\n",
    "@my_dec\n",
    "def say_hello(name):\n",
    "    greeting = f'Hello {name}'\n",
    "    print(greeting)\n",
    "    return greeting\n",
    "\n",
    "say_hello('Ibiso')\n"
   ]
  },
  {
   "cell_type": "code",
   "execution_count": null,
   "id": "dc5bbc55",
   "metadata": {},
   "outputs": [],
   "source": []
  }
 ],
 "metadata": {
  "kernelspec": {
   "display_name": "Python 3",
   "language": "python",
   "name": "python3"
  },
  "language_info": {
   "codemirror_mode": {
    "name": "ipython",
    "version": 3
   },
   "file_extension": ".py",
   "mimetype": "text/x-python",
   "name": "python",
   "nbconvert_exporter": "python",
   "pygments_lexer": "ipython3",
   "version": "3.8.8"
  }
 },
 "nbformat": 4,
 "nbformat_minor": 5
}
